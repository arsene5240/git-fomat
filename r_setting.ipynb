{
 "cells": [
  {
   "cell_type": "markdown",
   "source": [
    "#### 執行 R 位置"
   ],
   "metadata": {}
  },
  {
   "cell_type": "code",
   "execution_count": 2,
   "source": [
    "R.home()"
   ],
   "outputs": [
    {
     "output_type": "display_data",
     "data": {
      "text/html": [
       "'/Library/Frameworks/R.framework/Resources'"
      ],
      "text/latex": [
       "'/Library/Frameworks/R.framework/Resources'"
      ],
      "text/markdown": [
       "'/Library/Frameworks/R.framework/Resources'"
      ],
      "text/plain": [
       "[1] \"/Library/Frameworks/R.framework/Resources\""
      ]
     },
     "metadata": {}
    }
   ],
   "metadata": {}
  },
  {
   "cell_type": "markdown",
   "source": [
    "#### 查看環境變數"
   ],
   "metadata": {}
  },
  {
   "cell_type": "code",
   "execution_count": 3,
   "source": [
    "Sys.getenv()"
   ],
   "outputs": [
    {
     "output_type": "display_data",
     "data": {
      "text/plain": [
       "APPLICATION_INSIGHTS_NO_DIAGNOSTIC_CHANNEL\n",
       "                        true\n",
       "COMMAND_MODE            unix2003\n",
       "DISPLAY                 /private/tmp/com.apple.launchd.O23Yk7KHCp/org.xquartz:0\n",
       "DYLD_FALLBACK_LIBRARY_PATH\n",
       "                        /Library/Frameworks/R.framework/Resources/lib:/Library/Java/JavaVirtualMachines/jdk-11.0.1.jdk/Contents/Home/lib/server\n",
       "EDITOR                  vi\n",
       "ELECTRON_RUN_AS_NODE    1\n",
       "HOME                    /Users/arsene5240\n",
       "LESS                    -R\n",
       "LN_S                    ln -s\n",
       "LOGNAME                 arsene5240\n",
       "LSCOLORS                Gxfxcxdxbxegedabagacad\n",
       "MAKE                    make\n",
       "ORIGINAL_XDG_CURRENT_DESKTOP\n",
       "                        undefined\n",
       "PAGER                   less\n",
       "PATH                    /Users/arsene5240/opt/anaconda3/bin:/usr/local/bin:/usr/bin:/bin:/usr/sbin:/sbin:/Library/TeX/texbin:/usr/local/share/dotnet:/opt/X11/bin:~/.dotnet/tools:/Library/Apple/usr/bin:/Library/Frameworks/Mono.framework/Versions/Current/Commands:/Applications/Xamarin\n",
       "                        Workbooks.app/Contents/SharedSupport/path-bin\n",
       "PWD                     /Users/arsene5240/code/setting\n",
       "PYTHONIOENCODING        utf-8\n",
       "PYTHONUNBUFFERED        1\n",
       "RETICULATE_PYTHON       /anaconda3/bin/python\n",
       "R_ARCH                  \n",
       "R_BROWSER               /usr/bin/open\n",
       "R_BZIPCMD               /usr/bin/bzip2\n",
       "R_DOC_DIR               /Library/Frameworks/R.framework/Resources/doc\n",
       "R_GZIPCMD               /usr/bin/gzip\n",
       "R_HOME                  /Library/Frameworks/R.framework/Resources\n",
       "R_INCLUDE_DIR           /Library/Frameworks/R.framework/Resources/include\n",
       "R_LIBS_SITE             \n",
       "R_LIBS_USER             ~/Library/R/3.6/library\n",
       "R_PAPERSIZE             a4\n",
       "R_PDFVIEWER             /usr/bin/open\n",
       "R_PLATFORM              x86_64-apple-darwin15.6.0\n",
       "R_PRINTCMD              lpr\n",
       "R_QPDF                  /Library/Frameworks/R.framework/Resources/bin/qpdf\n",
       "R_RD4PDF                times,inconsolata,hyper\n",
       "R_SESSION_TMPDIR        /var/folders/x2/4xhlt3kn2g76y3802bnykrtc0000gn/T//RtmpSzn4yJ\n",
       "R_SHARE_DIR             /Library/Frameworks/R.framework/Resources/share\n",
       "R_STRIP_SHARED_LIB      strip -x\n",
       "R_STRIP_STATIC_LIB      strip -S\n",
       "R_SYSTEM_ABI            osx,gcc,gxx,gfortran,gfortran\n",
       "R_TEXI2DVICMD           /usr/local/bin/texi2dvi\n",
       "R_UNZIPCMD              /usr/bin/unzip\n",
       "R_ZIPCMD                /usr/bin/zip\n",
       "SED                     /usr/bin/sed\n",
       "SHELL                   /bin/zsh\n",
       "SHLVL                   0\n",
       "SSH_AUTH_SOCK           /private/tmp/com.apple.launchd.SXUYUgEV2J/Listeners\n",
       "TAR                     /usr/bin/tar\n",
       "TMPDIR                  /var/folders/x2/4xhlt3kn2g76y3802bnykrtc0000gn/T/\n",
       "USER                    arsene5240\n",
       "VSCODE_AMD_ENTRYPOINT   vs/workbench/services/extensions/node/extensionHostProcess\n",
       "VSCODE_CODE_CACHE_PATH\n",
       "                        /Users/arsene5240/Library/Application\n",
       "                        Support/Code/CachedData/7f6ab5485bbc008386c4386d08766667e155244e\n",
       "VSCODE_CWD              /\n",
       "VSCODE_HANDLES_UNCAUGHT_ERRORS\n",
       "                        true\n",
       "VSCODE_IPC_HOOK         /Users/arsene5240/Library/Application\n",
       "                        Support/Code/1.60.2-main.sock\n",
       "VSCODE_IPC_HOOK_EXTHOST\n",
       "                        /var/folders/x2/4xhlt3kn2g76y3802bnykrtc0000gn/T/vscode-ipc-80ca9590-82d6-4b3e-957b-0637f34c7ee5.sock\n",
       "VSCODE_LOG_NATIVE       false\n",
       "VSCODE_LOG_STACK        false\n",
       "VSCODE_NLS_CONFIG       {\"locale\":\"zh-tw\",\"availableLanguages\":{\"*\":\"zh-tw\"},\"_languagePackId\":\"d2994f2533d3dfc36867db53dedfefe0.zh-tw\",\"_translationsConfigFile\":\"/Users/arsene5240/Library/Application\n",
       "                        Support/Code/clp/d2994f2533d3dfc36867db53dedfefe0.zh-tw/tcf.json\",\"_cacheRoot\":\"/Users/arsene5240/Library/Application\n",
       "                        Support/Code/clp/d2994f2533d3dfc36867db53dedfefe0.zh-tw\",\"_resolvedLanguagePackCoreLocation\":\"/Users/arsene5240/Library/Application\n",
       "                        Support/Code/clp/d2994f2533d3dfc36867db53dedfefe0.zh-tw/7f6ab5485bbc008386c4386d08766667e155244e\",\"_corruptedFile\":\"/Users/arsene5240/Library/Application\n",
       "                        Support/Code/clp/d2994f2533d3dfc36867db53dedfefe0.zh-tw/corrupted.info\",\"_languagePackSupport\":true}\n",
       "VSCODE_PID              13048\n",
       "VSCODE_PIPE_LOGGING     true\n",
       "VSCODE_VERBOSE_LOGGING\n",
       "                        true\n",
       "XPC_FLAGS               0x0\n",
       "XPC_SERVICE_NAME        application.com.microsoft.VSCode.12897921287.12897921293\n",
       "ZSH                     /Users/arsene5240/.oh-my-zsh\n",
       "__CFBundleIdentifier    com.microsoft.VSCode\n",
       "__CF_USER_TEXT_ENCODING\n",
       "                        0x1F5:0x2:0x35\n",
       "__KMP_REGISTERED_LIB_14300\n",
       "                        0x102505c20-cafef2e5-libomp.dylib"
      ]
     },
     "metadata": {}
    }
   ],
   "metadata": {}
  },
  {
   "cell_type": "markdown",
   "source": [
    "#### 語言版本"
   ],
   "metadata": {}
  },
  {
   "cell_type": "code",
   "execution_count": 3,
   "source": [
    "sessionInfo()"
   ],
   "outputs": [
    {
     "output_type": "display_data",
     "data": {
      "text/plain": [
       "R version 3.6.3 (2020-02-29)\n",
       "Platform: x86_64-apple-darwin15.6.0 (64-bit)\n",
       "Running under: macOS  10.16\n",
       "\n",
       "Matrix products: default\n",
       "BLAS:   /Library/Frameworks/R.framework/Versions/3.6/Resources/lib/libRblas.0.dylib\n",
       "LAPACK: /Library/Frameworks/R.framework/Versions/3.6/Resources/lib/libRlapack.dylib\n",
       "\n",
       "locale:\n",
       "[1] C\n",
       "\n",
       "attached base packages:\n",
       "[1] stats     graphics  grDevices utils     datasets  methods   base     \n",
       "\n",
       "loaded via a namespace (and not attached):\n",
       " [1] fansi_0.5.0       digest_0.6.27     utf8_1.2.2        crayon_1.4.1     \n",
       " [5] IRdisplay_1.0     repr_1.1.3        lifecycle_1.0.0   jsonlite_1.7.2   \n",
       " [9] evaluate_0.14     pillar_1.6.2      rlang_0.4.11      uuid_0.1-4       \n",
       "[13] vctrs_0.3.8       ellipsis_0.3.2    IRkernel_1.2      tools_3.6.3      \n",
       "[17] compiler_3.6.3    base64enc_0.1-3   pbdZMQ_0.3-5      htmltools_0.5.1.1"
      ]
     },
     "metadata": {}
    }
   ],
   "metadata": {}
  },
  {
   "cell_type": "markdown",
   "source": [
    "#### 當前路徑"
   ],
   "metadata": {}
  },
  {
   "cell_type": "code",
   "execution_count": 10,
   "source": [
    "getwd()"
   ],
   "outputs": [
    {
     "output_type": "display_data",
     "data": {
      "text/html": [
       "'/Users/arsene5240/code/setting'"
      ],
      "text/latex": [
       "'/Users/arsene5240/code/setting'"
      ],
      "text/markdown": [
       "'/Users/arsene5240/code/setting'"
      ],
      "text/plain": [
       "[1] \"/Users/arsene5240/code/setting\""
      ]
     },
     "metadata": {}
    }
   ],
   "metadata": {}
  },
  {
   "cell_type": "markdown",
   "source": [
    "#### 安裝套件存放路徑"
   ],
   "metadata": {}
  },
  {
   "cell_type": "code",
   "execution_count": 7,
   "source": [
    ".libPaths()"
   ],
   "outputs": [
    {
     "output_type": "display_data",
     "data": {
      "text/html": [
       "'/Library/Frameworks/R.framework/Versions/3.6/Resources/library'"
      ],
      "text/latex": [
       "'/Library/Frameworks/R.framework/Versions/3.6/Resources/library'"
      ],
      "text/markdown": [
       "'/Library/Frameworks/R.framework/Versions/3.6/Resources/library'"
      ],
      "text/plain": [
       "[1] \"/Library/Frameworks/R.framework/Versions/3.6/Resources/library\""
      ]
     },
     "metadata": {}
    }
   ],
   "metadata": {}
  },
  {
   "cell_type": "markdown",
   "source": [
    "#### 全部已下載的套件版本"
   ],
   "metadata": {}
  },
  {
   "cell_type": "code",
   "execution_count": 1,
   "source": [
    "installed.packages()[,c(3:4)]"
   ],
   "outputs": [
    {
     "output_type": "display_data",
     "data": {
      "text/html": [
       "<table class=\"dataframe\">\n",
       "<caption>A matrix: 319 × 2 of type chr</caption>\n",
       "<thead>\n",
       "\t<tr><th></th><th scope=col>Version</th><th scope=col>Priority</th></tr>\n",
       "</thead>\n",
       "<tbody>\n",
       "\t<tr><th scope=row>BH</th><td>1.72.0-3</td><td>NA         </td></tr>\n",
       "\t<tr><th scope=row>C50</th><td>0.1.5   </td><td>NA         </td></tr>\n",
       "\t<tr><th scope=row>Cubist</th><td>0.3.0   </td><td>NA         </td></tr>\n",
       "\t<tr><th scope=row>DBI</th><td>1.1.1   </td><td>NA         </td></tr>\n",
       "\t<tr><th scope=row>DMwR</th><td>0.4.1   </td><td>NA         </td></tr>\n",
       "\t<tr><th scope=row>DT</th><td>0.18    </td><td>NA         </td></tr>\n",
       "\t<tr><th scope=row>DescTools</th><td>0.99.34 </td><td>NA         </td></tr>\n",
       "\t<tr><th scope=row>FNN</th><td>1.1.3   </td><td>NA         </td></tr>\n",
       "\t<tr><th scope=row>FactoMineR</th><td>2.4     </td><td>NA         </td></tr>\n",
       "\t<tr><th scope=row>Formula</th><td>1.2-4   </td><td>NA         </td></tr>\n",
       "\t<tr><th scope=row>GGally</th><td>2.1.2   </td><td>NA         </td></tr>\n",
       "\t<tr><th scope=row>IRdisplay</th><td>1.0     </td><td>NA         </td></tr>\n",
       "\t<tr><th scope=row>IRkernel</th><td>1.2     </td><td>NA         </td></tr>\n",
       "\t<tr><th scope=row>ISLR</th><td>1.4     </td><td>NA         </td></tr>\n",
       "\t<tr><th scope=row>KernSmooth</th><td>2.23-16 </td><td>recommended</td></tr>\n",
       "\t<tr><th scope=row>MASS</th><td>7.3-51.5</td><td>recommended</td></tr>\n",
       "\t<tr><th scope=row>MLeval</th><td>0.3     </td><td>NA         </td></tr>\n",
       "\t<tr><th scope=row>Matrix</th><td>1.2-18  </td><td>recommended</td></tr>\n",
       "\t<tr><th scope=row>MatrixModels</th><td>0.5-0   </td><td>NA         </td></tr>\n",
       "\t<tr><th scope=row>ModelMetrics</th><td>1.2.2.2 </td><td>NA         </td></tr>\n",
       "\t<tr><th scope=row>NeuralNetTools</th><td>1.5.2   </td><td>NA         </td></tr>\n",
       "\t<tr><th scope=row>PRROC</th><td>1.3.1   </td><td>NA         </td></tr>\n",
       "\t<tr><th scope=row>PerformanceAnalytics</th><td>2.0.4   </td><td>NA         </td></tr>\n",
       "\t<tr><th scope=row>Quandl</th><td>2.10.0  </td><td>NA         </td></tr>\n",
       "\t<tr><th scope=row>R.cache</th><td>0.15.0  </td><td>NA         </td></tr>\n",
       "\t<tr><th scope=row>R.methodsS3</th><td>1.8.1   </td><td>NA         </td></tr>\n",
       "\t<tr><th scope=row>R.oo</th><td>1.24.0  </td><td>NA         </td></tr>\n",
       "\t<tr><th scope=row>R.utils</th><td>2.10.1  </td><td>NA         </td></tr>\n",
       "\t<tr><th scope=row>R6</th><td>2.5.1   </td><td>NA         </td></tr>\n",
       "\t<tr><th scope=row>RColorBrewer</th><td>1.1-2   </td><td>NA         </td></tr>\n",
       "\t<tr><th scope=row>⋮</th><td>⋮</td><td>⋮</td></tr>\n",
       "\t<tr><th scope=row>timetk</th><td>2.6.1     </td><td>NA  </td></tr>\n",
       "\t<tr><th scope=row>tinytex</th><td>0.26      </td><td>NA  </td></tr>\n",
       "\t<tr><th scope=row>tools</th><td>3.6.3     </td><td>base</td></tr>\n",
       "\t<tr><th scope=row>tseries</th><td>0.10-48   </td><td>NA  </td></tr>\n",
       "\t<tr><th scope=row>updateR</th><td>0.2.0.9000</td><td>NA  </td></tr>\n",
       "\t<tr><th scope=row>urca</th><td>1.3-0     </td><td>NA  </td></tr>\n",
       "\t<tr><th scope=row>usethis</th><td>2.0.1     </td><td>NA  </td></tr>\n",
       "\t<tr><th scope=row>utf8</th><td>1.2.2     </td><td>NA  </td></tr>\n",
       "\t<tr><th scope=row>utils</th><td>3.6.3     </td><td>base</td></tr>\n",
       "\t<tr><th scope=row>uuid</th><td>0.1-4     </td><td>NA  </td></tr>\n",
       "\t<tr><th scope=row>vctrs</th><td>0.3.8     </td><td>NA  </td></tr>\n",
       "\t<tr><th scope=row>viridis</th><td>0.6.1     </td><td>NA  </td></tr>\n",
       "\t<tr><th scope=row>viridisLite</th><td>0.4.0     </td><td>NA  </td></tr>\n",
       "\t<tr><th scope=row>waldo</th><td>0.3.1     </td><td>NA  </td></tr>\n",
       "\t<tr><th scope=row>warp</th><td>0.2.0     </td><td>NA  </td></tr>\n",
       "\t<tr><th scope=row>webshot</th><td>0.5.2     </td><td>NA  </td></tr>\n",
       "\t<tr><th scope=row>whisker</th><td>0.4       </td><td>NA  </td></tr>\n",
       "\t<tr><th scope=row>withr</th><td>2.4.2     </td><td>NA  </td></tr>\n",
       "\t<tr><th scope=row>xfun</th><td>0.26      </td><td>NA  </td></tr>\n",
       "\t<tr><th scope=row>xgboost</th><td>1.4.1.1   </td><td>NA  </td></tr>\n",
       "\t<tr><th scope=row>xlsx</th><td>0.6.3     </td><td>NA  </td></tr>\n",
       "\t<tr><th scope=row>xlsxjars</th><td>0.6.1     </td><td>NA  </td></tr>\n",
       "\t<tr><th scope=row>xml2</th><td>1.3.2     </td><td>NA  </td></tr>\n",
       "\t<tr><th scope=row>xmlparsedata</th><td>1.0.5     </td><td>NA  </td></tr>\n",
       "\t<tr><th scope=row>xopen</th><td>1.0.0     </td><td>NA  </td></tr>\n",
       "\t<tr><th scope=row>xtable</th><td>1.8-4     </td><td>NA  </td></tr>\n",
       "\t<tr><th scope=row>xts</th><td>0.12.1    </td><td>NA  </td></tr>\n",
       "\t<tr><th scope=row>yaml</th><td>2.2.1     </td><td>NA  </td></tr>\n",
       "\t<tr><th scope=row>zip</th><td>2.2.0     </td><td>NA  </td></tr>\n",
       "\t<tr><th scope=row>zoo</th><td>1.8-9     </td><td>NA  </td></tr>\n",
       "</tbody>\n",
       "</table>\n"
      ],
      "text/latex": [
       "A matrix: 319 × 2 of type chr\n",
       "\\begin{tabular}{r|ll}\n",
       "  & Version & Priority\\\\\n",
       "\\hline\n",
       "\tBH & 1.72.0-3 & NA         \\\\\n",
       "\tC50 & 0.1.5    & NA         \\\\\n",
       "\tCubist & 0.3.0    & NA         \\\\\n",
       "\tDBI & 1.1.1    & NA         \\\\\n",
       "\tDMwR & 0.4.1    & NA         \\\\\n",
       "\tDT & 0.18     & NA         \\\\\n",
       "\tDescTools & 0.99.34  & NA         \\\\\n",
       "\tFNN & 1.1.3    & NA         \\\\\n",
       "\tFactoMineR & 2.4      & NA         \\\\\n",
       "\tFormula & 1.2-4    & NA         \\\\\n",
       "\tGGally & 2.1.2    & NA         \\\\\n",
       "\tIRdisplay & 1.0      & NA         \\\\\n",
       "\tIRkernel & 1.2      & NA         \\\\\n",
       "\tISLR & 1.4      & NA         \\\\\n",
       "\tKernSmooth & 2.23-16  & recommended\\\\\n",
       "\tMASS & 7.3-51.5 & recommended\\\\\n",
       "\tMLeval & 0.3      & NA         \\\\\n",
       "\tMatrix & 1.2-18   & recommended\\\\\n",
       "\tMatrixModels & 0.5-0    & NA         \\\\\n",
       "\tModelMetrics & 1.2.2.2  & NA         \\\\\n",
       "\tNeuralNetTools & 1.5.2    & NA         \\\\\n",
       "\tPRROC & 1.3.1    & NA         \\\\\n",
       "\tPerformanceAnalytics & 2.0.4    & NA         \\\\\n",
       "\tQuandl & 2.10.0   & NA         \\\\\n",
       "\tR.cache & 0.15.0   & NA         \\\\\n",
       "\tR.methodsS3 & 1.8.1    & NA         \\\\\n",
       "\tR.oo & 1.24.0   & NA         \\\\\n",
       "\tR.utils & 2.10.1   & NA         \\\\\n",
       "\tR6 & 2.5.1    & NA         \\\\\n",
       "\tRColorBrewer & 1.1-2    & NA         \\\\\n",
       "\t⋮ & ⋮ & ⋮\\\\\n",
       "\ttimetk & 2.6.1      & NA  \\\\\n",
       "\ttinytex & 0.26       & NA  \\\\\n",
       "\ttools & 3.6.3      & base\\\\\n",
       "\ttseries & 0.10-48    & NA  \\\\\n",
       "\tupdateR & 0.2.0.9000 & NA  \\\\\n",
       "\turca & 1.3-0      & NA  \\\\\n",
       "\tusethis & 2.0.1      & NA  \\\\\n",
       "\tutf8 & 1.2.2      & NA  \\\\\n",
       "\tutils & 3.6.3      & base\\\\\n",
       "\tuuid & 0.1-4      & NA  \\\\\n",
       "\tvctrs & 0.3.8      & NA  \\\\\n",
       "\tviridis & 0.6.1      & NA  \\\\\n",
       "\tviridisLite & 0.4.0      & NA  \\\\\n",
       "\twaldo & 0.3.1      & NA  \\\\\n",
       "\twarp & 0.2.0      & NA  \\\\\n",
       "\twebshot & 0.5.2      & NA  \\\\\n",
       "\twhisker & 0.4        & NA  \\\\\n",
       "\twithr & 2.4.2      & NA  \\\\\n",
       "\txfun & 0.26       & NA  \\\\\n",
       "\txgboost & 1.4.1.1    & NA  \\\\\n",
       "\txlsx & 0.6.3      & NA  \\\\\n",
       "\txlsxjars & 0.6.1      & NA  \\\\\n",
       "\txml2 & 1.3.2      & NA  \\\\\n",
       "\txmlparsedata & 1.0.5      & NA  \\\\\n",
       "\txopen & 1.0.0      & NA  \\\\\n",
       "\txtable & 1.8-4      & NA  \\\\\n",
       "\txts & 0.12.1     & NA  \\\\\n",
       "\tyaml & 2.2.1      & NA  \\\\\n",
       "\tzip & 2.2.0      & NA  \\\\\n",
       "\tzoo & 1.8-9      & NA  \\\\\n",
       "\\end{tabular}\n"
      ],
      "text/markdown": [
       "\n",
       "A matrix: 319 × 2 of type chr\n",
       "\n",
       "| <!--/--> | Version | Priority |\n",
       "|---|---|---|\n",
       "| BH | 1.72.0-3 | NA          |\n",
       "| C50 | 0.1.5    | NA          |\n",
       "| Cubist | 0.3.0    | NA          |\n",
       "| DBI | 1.1.1    | NA          |\n",
       "| DMwR | 0.4.1    | NA          |\n",
       "| DT | 0.18     | NA          |\n",
       "| DescTools | 0.99.34  | NA          |\n",
       "| FNN | 1.1.3    | NA          |\n",
       "| FactoMineR | 2.4      | NA          |\n",
       "| Formula | 1.2-4    | NA          |\n",
       "| GGally | 2.1.2    | NA          |\n",
       "| IRdisplay | 1.0      | NA          |\n",
       "| IRkernel | 1.2      | NA          |\n",
       "| ISLR | 1.4      | NA          |\n",
       "| KernSmooth | 2.23-16  | recommended |\n",
       "| MASS | 7.3-51.5 | recommended |\n",
       "| MLeval | 0.3      | NA          |\n",
       "| Matrix | 1.2-18   | recommended |\n",
       "| MatrixModels | 0.5-0    | NA          |\n",
       "| ModelMetrics | 1.2.2.2  | NA          |\n",
       "| NeuralNetTools | 1.5.2    | NA          |\n",
       "| PRROC | 1.3.1    | NA          |\n",
       "| PerformanceAnalytics | 2.0.4    | NA          |\n",
       "| Quandl | 2.10.0   | NA          |\n",
       "| R.cache | 0.15.0   | NA          |\n",
       "| R.methodsS3 | 1.8.1    | NA          |\n",
       "| R.oo | 1.24.0   | NA          |\n",
       "| R.utils | 2.10.1   | NA          |\n",
       "| R6 | 2.5.1    | NA          |\n",
       "| RColorBrewer | 1.1-2    | NA          |\n",
       "| ⋮ | ⋮ | ⋮ |\n",
       "| timetk | 2.6.1      | NA   |\n",
       "| tinytex | 0.26       | NA   |\n",
       "| tools | 3.6.3      | base |\n",
       "| tseries | 0.10-48    | NA   |\n",
       "| updateR | 0.2.0.9000 | NA   |\n",
       "| urca | 1.3-0      | NA   |\n",
       "| usethis | 2.0.1      | NA   |\n",
       "| utf8 | 1.2.2      | NA   |\n",
       "| utils | 3.6.3      | base |\n",
       "| uuid | 0.1-4      | NA   |\n",
       "| vctrs | 0.3.8      | NA   |\n",
       "| viridis | 0.6.1      | NA   |\n",
       "| viridisLite | 0.4.0      | NA   |\n",
       "| waldo | 0.3.1      | NA   |\n",
       "| warp | 0.2.0      | NA   |\n",
       "| webshot | 0.5.2      | NA   |\n",
       "| whisker | 0.4        | NA   |\n",
       "| withr | 2.4.2      | NA   |\n",
       "| xfun | 0.26       | NA   |\n",
       "| xgboost | 1.4.1.1    | NA   |\n",
       "| xlsx | 0.6.3      | NA   |\n",
       "| xlsxjars | 0.6.1      | NA   |\n",
       "| xml2 | 1.3.2      | NA   |\n",
       "| xmlparsedata | 1.0.5      | NA   |\n",
       "| xopen | 1.0.0      | NA   |\n",
       "| xtable | 1.8-4      | NA   |\n",
       "| xts | 0.12.1     | NA   |\n",
       "| yaml | 2.2.1      | NA   |\n",
       "| zip | 2.2.0      | NA   |\n",
       "| zoo | 1.8-9      | NA   |\n",
       "\n"
      ],
      "text/plain": [
       "                     Version    Priority   \n",
       "BH                   1.72.0-3   NA         \n",
       "C50                  0.1.5      NA         \n",
       "Cubist               0.3.0      NA         \n",
       "DBI                  1.1.1      NA         \n",
       "DMwR                 0.4.1      NA         \n",
       "DT                   0.18       NA         \n",
       "DescTools            0.99.34    NA         \n",
       "FNN                  1.1.3      NA         \n",
       "FactoMineR           2.4        NA         \n",
       "Formula              1.2-4      NA         \n",
       "GGally               2.1.2      NA         \n",
       "IRdisplay            1.0        NA         \n",
       "IRkernel             1.2        NA         \n",
       "ISLR                 1.4        NA         \n",
       "KernSmooth           2.23-16    recommended\n",
       "MASS                 7.3-51.5   recommended\n",
       "MLeval               0.3        NA         \n",
       "Matrix               1.2-18     recommended\n",
       "MatrixModels         0.5-0      NA         \n",
       "ModelMetrics         1.2.2.2    NA         \n",
       "NeuralNetTools       1.5.2      NA         \n",
       "PRROC                1.3.1      NA         \n",
       "PerformanceAnalytics 2.0.4      NA         \n",
       "Quandl               2.10.0     NA         \n",
       "R.cache              0.15.0     NA         \n",
       "R.methodsS3          1.8.1      NA         \n",
       "R.oo                 1.24.0     NA         \n",
       "R.utils              2.10.1     NA         \n",
       "R6                   2.5.1      NA         \n",
       "RColorBrewer         1.1-2      NA         \n",
       "<U+22EE>               <U+22EE>   <U+22EE>   \n",
       "timetk               2.6.1      NA         \n",
       "tinytex              0.26       NA         \n",
       "tools                3.6.3      base       \n",
       "tseries              0.10-48    NA         \n",
       "updateR              0.2.0.9000 NA         \n",
       "urca                 1.3-0      NA         \n",
       "usethis              2.0.1      NA         \n",
       "utf8                 1.2.2      NA         \n",
       "utils                3.6.3      base       \n",
       "uuid                 0.1-4      NA         \n",
       "vctrs                0.3.8      NA         \n",
       "viridis              0.6.1      NA         \n",
       "viridisLite          0.4.0      NA         \n",
       "waldo                0.3.1      NA         \n",
       "warp                 0.2.0      NA         \n",
       "webshot              0.5.2      NA         \n",
       "whisker              0.4        NA         \n",
       "withr                2.4.2      NA         \n",
       "xfun                 0.26       NA         \n",
       "xgboost              1.4.1.1    NA         \n",
       "xlsx                 0.6.3      NA         \n",
       "xlsxjars             0.6.1      NA         \n",
       "xml2                 1.3.2      NA         \n",
       "xmlparsedata         1.0.5      NA         \n",
       "xopen                1.0.0      NA         \n",
       "xtable               1.8-4      NA         \n",
       "xts                  0.12.1     NA         \n",
       "yaml                 2.2.1      NA         \n",
       "zip                  2.2.0      NA         \n",
       "zoo                  1.8-9      NA         "
      ]
     },
     "metadata": {}
    }
   ],
   "metadata": {}
  },
  {
   "cell_type": "markdown",
   "source": [
    "#### 指定套件的版本"
   ],
   "metadata": {}
  },
  {
   "cell_type": "code",
   "execution_count": 2,
   "source": [
    "packageVersion(\"dplyr\")"
   ],
   "outputs": [
    {
     "output_type": "display_data",
     "data": {
      "text/plain": [
       "[1] '1.0.7'"
      ]
     },
     "metadata": {}
    }
   ],
   "metadata": {}
  },
  {
   "cell_type": "markdown",
   "source": [
    "#### 跑 R 前的 .Rprofile 檔案位置(預設 .Rdata 位置)"
   ],
   "metadata": {}
  },
  {
   "cell_type": "code",
   "execution_count": 16,
   "source": [
    "file.path(Sys.getenv(\"HOME\"), \".Rprofile\")\n",
    "file.path(Sys.getenv(), \".Rdata\")"
   ],
   "outputs": [
    {
     "output_type": "display_data",
     "data": {
      "text/html": [
       "'/Users/arsene5240/.Rprofile'"
      ],
      "text/latex": [
       "'/Users/arsene5240/.Rprofile'"
      ],
      "text/markdown": [
       "'/Users/arsene5240/.Rprofile'"
      ],
      "text/plain": [
       "[1] \"/Users/arsene5240/.Rprofile\""
      ]
     },
     "metadata": {}
    },
    {
     "output_type": "display_data",
     "data": {
      "text/html": [
       "<style>\n",
       ".list-inline {list-style: none; margin:0; padding: 0}\n",
       ".list-inline>li {display: inline-block}\n",
       ".list-inline>li:not(:last-child)::after {content: \"\\00b7\"; padding: 0 .5ex}\n",
       "</style>\n",
       "<ol class=list-inline><li>'true/.Rdata'</li><li>'unix2003/.Rdata'</li><li>'/private/tmp/com.apple.launchd.O23Yk7KHCp/org.xquartz:0/.Rdata'</li><li>'/Library/Frameworks/R.framework/Resources/lib:/Library/Java/JavaVirtualMachines/jdk-11.0.1.jdk/Contents/Home/lib/server/.Rdata'</li><li>'vi/.Rdata'</li><li>'1/.Rdata'</li><li>'/Users/arsene5240/.Rdata'</li><li>'-R/.Rdata'</li><li>'ln -s/.Rdata'</li><li>'arsene5240/.Rdata'</li><li>'Gxfxcxdxbxegedabagacad/.Rdata'</li><li>'make/.Rdata'</li><li>'undefined/.Rdata'</li><li>'less/.Rdata'</li><li>'/Users/arsene5240/opt/anaconda3/bin:/usr/local/bin:/usr/bin:/bin:/usr/sbin:/sbin:/Library/TeX/texbin:/usr/local/share/dotnet:/opt/X11/bin:~/.dotnet/tools:/Library/Apple/usr/bin:/Library/Frameworks/Mono.framework/Versions/Current/Commands:/Applications/Xamarin Workbooks.app/Contents/SharedSupport/path-bin/.Rdata'</li><li>'/Users/arsene5240/code/setting/.Rdata'</li><li>'utf-8/.Rdata'</li><li>'1/.Rdata'</li><li>'/anaconda3/bin/python/.Rdata'</li><li>'/.Rdata'</li><li>'/usr/bin/open/.Rdata'</li><li>'/usr/bin/bzip2/.Rdata'</li><li>'/Library/Frameworks/R.framework/Resources/doc/.Rdata'</li><li>'/usr/bin/gzip/.Rdata'</li><li>'/Library/Frameworks/R.framework/Resources/.Rdata'</li><li>'/Library/Frameworks/R.framework/Resources/include/.Rdata'</li><li>'/.Rdata'</li><li>'~/Library/R/3.6/library/.Rdata'</li><li>'a4/.Rdata'</li><li>'/usr/bin/open/.Rdata'</li><li>'x86_64-apple-darwin15.6.0/.Rdata'</li><li>'lpr/.Rdata'</li><li>'/Library/Frameworks/R.framework/Resources/bin/qpdf/.Rdata'</li><li>'times,inconsolata,hyper/.Rdata'</li><li>'/var/folders/x2/4xhlt3kn2g76y3802bnykrtc0000gn/T//RtmpSzn4yJ/.Rdata'</li><li>'/Library/Frameworks/R.framework/Resources/share/.Rdata'</li><li>'strip -x/.Rdata'</li><li>'strip -S/.Rdata'</li><li>'osx,gcc,gxx,gfortran,gfortran/.Rdata'</li><li>'/usr/local/bin/texi2dvi/.Rdata'</li><li>'/usr/bin/unzip/.Rdata'</li><li>'/usr/bin/zip/.Rdata'</li><li>'/usr/bin/sed/.Rdata'</li><li>'/bin/zsh/.Rdata'</li><li>'0/.Rdata'</li><li>'/private/tmp/com.apple.launchd.SXUYUgEV2J/Listeners/.Rdata'</li><li>'/usr/bin/tar/.Rdata'</li><li>'/var/folders/x2/4xhlt3kn2g76y3802bnykrtc0000gn/T//.Rdata'</li><li>'arsene5240/.Rdata'</li><li>'vs/workbench/services/extensions/node/extensionHostProcess/.Rdata'</li><li>'/Users/arsene5240/Library/Application Support/Code/CachedData/7f6ab5485bbc008386c4386d08766667e155244e/.Rdata'</li><li>'//.Rdata'</li><li>'true/.Rdata'</li><li>'/Users/arsene5240/Library/Application Support/Code/1.60.2-main.sock/.Rdata'</li><li>'/var/folders/x2/4xhlt3kn2g76y3802bnykrtc0000gn/T/vscode-ipc-80ca9590-82d6-4b3e-957b-0637f34c7ee5.sock/.Rdata'</li><li>'false/.Rdata'</li><li>'false/.Rdata'</li><li>'{\"locale\":\"zh-tw\",\"availableLanguages\":{\"*\":\"zh-tw\"},\"_languagePackId\":\"d2994f2533d3dfc36867db53dedfefe0.zh-tw\",\"_translationsConfigFile\":\"/Users/arsene5240/Library/Application Support/Code/clp/d2994f2533d3dfc36867db53dedfefe0.zh-tw/tcf.json\",\"_cacheRoot\":\"/Users/arsene5240/Library/Application Support/Code/clp/d2994f2533d3dfc36867db53dedfefe0.zh-tw\",\"_resolvedLanguagePackCoreLocation\":\"/Users/arsene5240/Library/Application Support/Code/clp/d2994f2533d3dfc36867db53dedfefe0.zh-tw/7f6ab5485bbc008386c4386d08766667e155244e\",\"_corruptedFile\":\"/Users/arsene5240/Library/Application Support/Code/clp/d2994f2533d3dfc36867db53dedfefe0.zh-tw/corrupted.info\",\"_languagePackSupport\":true}/.Rdata'</li><li>'13048/.Rdata'</li><li>'true/.Rdata'</li><li>'true/.Rdata'</li><li>'0x0/.Rdata'</li><li>'application.com.microsoft.VSCode.12897921287.12897921293/.Rdata'</li><li>'/Users/arsene5240/.oh-my-zsh/.Rdata'</li><li>'com.microsoft.VSCode/.Rdata'</li><li>'0x1F5:0x2:0x35/.Rdata'</li><li>'0x102505c20-cafef2e5-libomp.dylib/.Rdata'</li></ol>\n"
      ],
      "text/latex": [
       "\\begin{enumerate*}\n",
       "\\item 'true/.Rdata'\n",
       "\\item 'unix2003/.Rdata'\n",
       "\\item '/private/tmp/com.apple.launchd.O23Yk7KHCp/org.xquartz:0/.Rdata'\n",
       "\\item '/Library/Frameworks/R.framework/Resources/lib:/Library/Java/JavaVirtualMachines/jdk-11.0.1.jdk/Contents/Home/lib/server/.Rdata'\n",
       "\\item 'vi/.Rdata'\n",
       "\\item '1/.Rdata'\n",
       "\\item '/Users/arsene5240/.Rdata'\n",
       "\\item '-R/.Rdata'\n",
       "\\item 'ln -s/.Rdata'\n",
       "\\item 'arsene5240/.Rdata'\n",
       "\\item 'Gxfxcxdxbxegedabagacad/.Rdata'\n",
       "\\item 'make/.Rdata'\n",
       "\\item 'undefined/.Rdata'\n",
       "\\item 'less/.Rdata'\n",
       "\\item '/Users/arsene5240/opt/anaconda3/bin:/usr/local/bin:/usr/bin:/bin:/usr/sbin:/sbin:/Library/TeX/texbin:/usr/local/share/dotnet:/opt/X11/bin:\\textasciitilde{}/.dotnet/tools:/Library/Apple/usr/bin:/Library/Frameworks/Mono.framework/Versions/Current/Commands:/Applications/Xamarin Workbooks.app/Contents/SharedSupport/path-bin/.Rdata'\n",
       "\\item '/Users/arsene5240/code/setting/.Rdata'\n",
       "\\item 'utf-8/.Rdata'\n",
       "\\item '1/.Rdata'\n",
       "\\item '/anaconda3/bin/python/.Rdata'\n",
       "\\item '/.Rdata'\n",
       "\\item '/usr/bin/open/.Rdata'\n",
       "\\item '/usr/bin/bzip2/.Rdata'\n",
       "\\item '/Library/Frameworks/R.framework/Resources/doc/.Rdata'\n",
       "\\item '/usr/bin/gzip/.Rdata'\n",
       "\\item '/Library/Frameworks/R.framework/Resources/.Rdata'\n",
       "\\item '/Library/Frameworks/R.framework/Resources/include/.Rdata'\n",
       "\\item '/.Rdata'\n",
       "\\item '\\textasciitilde{}/Library/R/3.6/library/.Rdata'\n",
       "\\item 'a4/.Rdata'\n",
       "\\item '/usr/bin/open/.Rdata'\n",
       "\\item 'x86\\_64-apple-darwin15.6.0/.Rdata'\n",
       "\\item 'lpr/.Rdata'\n",
       "\\item '/Library/Frameworks/R.framework/Resources/bin/qpdf/.Rdata'\n",
       "\\item 'times,inconsolata,hyper/.Rdata'\n",
       "\\item '/var/folders/x2/4xhlt3kn2g76y3802bnykrtc0000gn/T//RtmpSzn4yJ/.Rdata'\n",
       "\\item '/Library/Frameworks/R.framework/Resources/share/.Rdata'\n",
       "\\item 'strip -x/.Rdata'\n",
       "\\item 'strip -S/.Rdata'\n",
       "\\item 'osx,gcc,gxx,gfortran,gfortran/.Rdata'\n",
       "\\item '/usr/local/bin/texi2dvi/.Rdata'\n",
       "\\item '/usr/bin/unzip/.Rdata'\n",
       "\\item '/usr/bin/zip/.Rdata'\n",
       "\\item '/usr/bin/sed/.Rdata'\n",
       "\\item '/bin/zsh/.Rdata'\n",
       "\\item '0/.Rdata'\n",
       "\\item '/private/tmp/com.apple.launchd.SXUYUgEV2J/Listeners/.Rdata'\n",
       "\\item '/usr/bin/tar/.Rdata'\n",
       "\\item '/var/folders/x2/4xhlt3kn2g76y3802bnykrtc0000gn/T//.Rdata'\n",
       "\\item 'arsene5240/.Rdata'\n",
       "\\item 'vs/workbench/services/extensions/node/extensionHostProcess/.Rdata'\n",
       "\\item '/Users/arsene5240/Library/Application Support/Code/CachedData/7f6ab5485bbc008386c4386d08766667e155244e/.Rdata'\n",
       "\\item '//.Rdata'\n",
       "\\item 'true/.Rdata'\n",
       "\\item '/Users/arsene5240/Library/Application Support/Code/1.60.2-main.sock/.Rdata'\n",
       "\\item '/var/folders/x2/4xhlt3kn2g76y3802bnykrtc0000gn/T/vscode-ipc-80ca9590-82d6-4b3e-957b-0637f34c7ee5.sock/.Rdata'\n",
       "\\item 'false/.Rdata'\n",
       "\\item 'false/.Rdata'\n",
       "\\item '\\{\"locale\":\"zh-tw\",\"availableLanguages\":\\{\"*\":\"zh-tw\"\\},\"\\_languagePackId\":\"d2994f2533d3dfc36867db53dedfefe0.zh-tw\",\"\\_translationsConfigFile\":\"/Users/arsene5240/Library/Application Support/Code/clp/d2994f2533d3dfc36867db53dedfefe0.zh-tw/tcf.json\",\"\\_cacheRoot\":\"/Users/arsene5240/Library/Application Support/Code/clp/d2994f2533d3dfc36867db53dedfefe0.zh-tw\",\"\\_resolvedLanguagePackCoreLocation\":\"/Users/arsene5240/Library/Application Support/Code/clp/d2994f2533d3dfc36867db53dedfefe0.zh-tw/7f6ab5485bbc008386c4386d08766667e155244e\",\"\\_corruptedFile\":\"/Users/arsene5240/Library/Application Support/Code/clp/d2994f2533d3dfc36867db53dedfefe0.zh-tw/corrupted.info\",\"\\_languagePackSupport\":true\\}/.Rdata'\n",
       "\\item '13048/.Rdata'\n",
       "\\item 'true/.Rdata'\n",
       "\\item 'true/.Rdata'\n",
       "\\item '0x0/.Rdata'\n",
       "\\item 'application.com.microsoft.VSCode.12897921287.12897921293/.Rdata'\n",
       "\\item '/Users/arsene5240/.oh-my-zsh/.Rdata'\n",
       "\\item 'com.microsoft.VSCode/.Rdata'\n",
       "\\item '0x1F5:0x2:0x35/.Rdata'\n",
       "\\item '0x102505c20-cafef2e5-libomp.dylib/.Rdata'\n",
       "\\end{enumerate*}\n"
      ],
      "text/markdown": [
       "1. 'true/.Rdata'\n",
       "2. 'unix2003/.Rdata'\n",
       "3. '/private/tmp/com.apple.launchd.O23Yk7KHCp/org.xquartz:0/.Rdata'\n",
       "4. '/Library/Frameworks/R.framework/Resources/lib:/Library/Java/JavaVirtualMachines/jdk-11.0.1.jdk/Contents/Home/lib/server/.Rdata'\n",
       "5. 'vi/.Rdata'\n",
       "6. '1/.Rdata'\n",
       "7. '/Users/arsene5240/.Rdata'\n",
       "8. '-R/.Rdata'\n",
       "9. 'ln -s/.Rdata'\n",
       "10. 'arsene5240/.Rdata'\n",
       "11. 'Gxfxcxdxbxegedabagacad/.Rdata'\n",
       "12. 'make/.Rdata'\n",
       "13. 'undefined/.Rdata'\n",
       "14. 'less/.Rdata'\n",
       "15. '/Users/arsene5240/opt/anaconda3/bin:/usr/local/bin:/usr/bin:/bin:/usr/sbin:/sbin:/Library/TeX/texbin:/usr/local/share/dotnet:/opt/X11/bin:~/.dotnet/tools:/Library/Apple/usr/bin:/Library/Frameworks/Mono.framework/Versions/Current/Commands:/Applications/Xamarin Workbooks.app/Contents/SharedSupport/path-bin/.Rdata'\n",
       "16. '/Users/arsene5240/code/setting/.Rdata'\n",
       "17. 'utf-8/.Rdata'\n",
       "18. '1/.Rdata'\n",
       "19. '/anaconda3/bin/python/.Rdata'\n",
       "20. '/.Rdata'\n",
       "21. '/usr/bin/open/.Rdata'\n",
       "22. '/usr/bin/bzip2/.Rdata'\n",
       "23. '/Library/Frameworks/R.framework/Resources/doc/.Rdata'\n",
       "24. '/usr/bin/gzip/.Rdata'\n",
       "25. '/Library/Frameworks/R.framework/Resources/.Rdata'\n",
       "26. '/Library/Frameworks/R.framework/Resources/include/.Rdata'\n",
       "27. '/.Rdata'\n",
       "28. '~/Library/R/3.6/library/.Rdata'\n",
       "29. 'a4/.Rdata'\n",
       "30. '/usr/bin/open/.Rdata'\n",
       "31. 'x86_64-apple-darwin15.6.0/.Rdata'\n",
       "32. 'lpr/.Rdata'\n",
       "33. '/Library/Frameworks/R.framework/Resources/bin/qpdf/.Rdata'\n",
       "34. 'times,inconsolata,hyper/.Rdata'\n",
       "35. '/var/folders/x2/4xhlt3kn2g76y3802bnykrtc0000gn/T//RtmpSzn4yJ/.Rdata'\n",
       "36. '/Library/Frameworks/R.framework/Resources/share/.Rdata'\n",
       "37. 'strip -x/.Rdata'\n",
       "38. 'strip -S/.Rdata'\n",
       "39. 'osx,gcc,gxx,gfortran,gfortran/.Rdata'\n",
       "40. '/usr/local/bin/texi2dvi/.Rdata'\n",
       "41. '/usr/bin/unzip/.Rdata'\n",
       "42. '/usr/bin/zip/.Rdata'\n",
       "43. '/usr/bin/sed/.Rdata'\n",
       "44. '/bin/zsh/.Rdata'\n",
       "45. '0/.Rdata'\n",
       "46. '/private/tmp/com.apple.launchd.SXUYUgEV2J/Listeners/.Rdata'\n",
       "47. '/usr/bin/tar/.Rdata'\n",
       "48. '/var/folders/x2/4xhlt3kn2g76y3802bnykrtc0000gn/T//.Rdata'\n",
       "49. 'arsene5240/.Rdata'\n",
       "50. 'vs/workbench/services/extensions/node/extensionHostProcess/.Rdata'\n",
       "51. '/Users/arsene5240/Library/Application Support/Code/CachedData/7f6ab5485bbc008386c4386d08766667e155244e/.Rdata'\n",
       "52. '//.Rdata'\n",
       "53. 'true/.Rdata'\n",
       "54. '/Users/arsene5240/Library/Application Support/Code/1.60.2-main.sock/.Rdata'\n",
       "55. '/var/folders/x2/4xhlt3kn2g76y3802bnykrtc0000gn/T/vscode-ipc-80ca9590-82d6-4b3e-957b-0637f34c7ee5.sock/.Rdata'\n",
       "56. 'false/.Rdata'\n",
       "57. 'false/.Rdata'\n",
       "58. '{\"locale\":\"zh-tw\",\"availableLanguages\":{\"*\":\"zh-tw\"},\"_languagePackId\":\"d2994f2533d3dfc36867db53dedfefe0.zh-tw\",\"_translationsConfigFile\":\"/Users/arsene5240/Library/Application Support/Code/clp/d2994f2533d3dfc36867db53dedfefe0.zh-tw/tcf.json\",\"_cacheRoot\":\"/Users/arsene5240/Library/Application Support/Code/clp/d2994f2533d3dfc36867db53dedfefe0.zh-tw\",\"_resolvedLanguagePackCoreLocation\":\"/Users/arsene5240/Library/Application Support/Code/clp/d2994f2533d3dfc36867db53dedfefe0.zh-tw/7f6ab5485bbc008386c4386d08766667e155244e\",\"_corruptedFile\":\"/Users/arsene5240/Library/Application Support/Code/clp/d2994f2533d3dfc36867db53dedfefe0.zh-tw/corrupted.info\",\"_languagePackSupport\":true}/.Rdata'\n",
       "59. '13048/.Rdata'\n",
       "60. 'true/.Rdata'\n",
       "61. 'true/.Rdata'\n",
       "62. '0x0/.Rdata'\n",
       "63. 'application.com.microsoft.VSCode.12897921287.12897921293/.Rdata'\n",
       "64. '/Users/arsene5240/.oh-my-zsh/.Rdata'\n",
       "65. 'com.microsoft.VSCode/.Rdata'\n",
       "66. '0x1F5:0x2:0x35/.Rdata'\n",
       "67. '0x102505c20-cafef2e5-libomp.dylib/.Rdata'\n",
       "\n",
       "\n"
      ],
      "text/plain": [
       " [1] \"true/.Rdata\"                                                                                                                                                                                                                                                                                                                                                                                                                                                                                                                                                                                                                                                                                                                                     \n",
       " [2] \"unix2003/.Rdata\"                                                                                                                                                                                                                                                                                                                                                                                                                                                                                                                                                                                                                                                                                                                                 \n",
       " [3] \"/private/tmp/com.apple.launchd.O23Yk7KHCp/org.xquartz:0/.Rdata\"                                                                                                                                                                                                                                                                                                                                                                                                                                                                                                                                                                                                                                                                                  \n",
       " [4] \"/Library/Frameworks/R.framework/Resources/lib:/Library/Java/JavaVirtualMachines/jdk-11.0.1.jdk/Contents/Home/lib/server/.Rdata\"                                                                                                                                                                                                                                                                                                                                                                                                                                                                                                                                                                                                                  \n",
       " [5] \"vi/.Rdata\"                                                                                                                                                                                                                                                                                                                                                                                                                                                                                                                                                                                                                                                                                                                                       \n",
       " [6] \"1/.Rdata\"                                                                                                                                                                                                                                                                                                                                                                                                                                                                                                                                                                                                                                                                                                                                        \n",
       " [7] \"/Users/arsene5240/.Rdata\"                                                                                                                                                                                                                                                                                                                                                                                                                                                                                                                                                                                                                                                                                                                        \n",
       " [8] \"-R/.Rdata\"                                                                                                                                                                                                                                                                                                                                                                                                                                                                                                                                                                                                                                                                                                                                       \n",
       " [9] \"ln -s/.Rdata\"                                                                                                                                                                                                                                                                                                                                                                                                                                                                                                                                                                                                                                                                                                                                    \n",
       "[10] \"arsene5240/.Rdata\"                                                                                                                                                                                                                                                                                                                                                                                                                                                                                                                                                                                                                                                                                                                               \n",
       "[11] \"Gxfxcxdxbxegedabagacad/.Rdata\"                                                                                                                                                                                                                                                                                                                                                                                                                                                                                                                                                                                                                                                                                                                   \n",
       "[12] \"make/.Rdata\"                                                                                                                                                                                                                                                                                                                                                                                                                                                                                                                                                                                                                                                                                                                                     \n",
       "[13] \"undefined/.Rdata\"                                                                                                                                                                                                                                                                                                                                                                                                                                                                                                                                                                                                                                                                                                                                \n",
       "[14] \"less/.Rdata\"                                                                                                                                                                                                                                                                                                                                                                                                                                                                                                                                                                                                                                                                                                                                     \n",
       "[15] \"/Users/arsene5240/opt/anaconda3/bin:/usr/local/bin:/usr/bin:/bin:/usr/sbin:/sbin:/Library/TeX/texbin:/usr/local/share/dotnet:/opt/X11/bin:~/.dotnet/tools:/Library/Apple/usr/bin:/Library/Frameworks/Mono.framework/Versions/Current/Commands:/Applications/Xamarin Workbooks.app/Contents/SharedSupport/path-bin/.Rdata\"                                                                                                                                                                                                                                                                                                                                                                                                                        \n",
       "[16] \"/Users/arsene5240/code/setting/.Rdata\"                                                                                                                                                                                                                                                                                                                                                                                                                                                                                                                                                                                                                                                                                                           \n",
       "[17] \"utf-8/.Rdata\"                                                                                                                                                                                                                                                                                                                                                                                                                                                                                                                                                                                                                                                                                                                                    \n",
       "[18] \"1/.Rdata\"                                                                                                                                                                                                                                                                                                                                                                                                                                                                                                                                                                                                                                                                                                                                        \n",
       "[19] \"/anaconda3/bin/python/.Rdata\"                                                                                                                                                                                                                                                                                                                                                                                                                                                                                                                                                                                                                                                                                                                    \n",
       "[20] \"/.Rdata\"                                                                                                                                                                                                                                                                                                                                                                                                                                                                                                                                                                                                                                                                                                                                         \n",
       "[21] \"/usr/bin/open/.Rdata\"                                                                                                                                                                                                                                                                                                                                                                                                                                                                                                                                                                                                                                                                                                                            \n",
       "[22] \"/usr/bin/bzip2/.Rdata\"                                                                                                                                                                                                                                                                                                                                                                                                                                                                                                                                                                                                                                                                                                                           \n",
       "[23] \"/Library/Frameworks/R.framework/Resources/doc/.Rdata\"                                                                                                                                                                                                                                                                                                                                                                                                                                                                                                                                                                                                                                                                                            \n",
       "[24] \"/usr/bin/gzip/.Rdata\"                                                                                                                                                                                                                                                                                                                                                                                                                                                                                                                                                                                                                                                                                                                            \n",
       "[25] \"/Library/Frameworks/R.framework/Resources/.Rdata\"                                                                                                                                                                                                                                                                                                                                                                                                                                                                                                                                                                                                                                                                                                \n",
       "[26] \"/Library/Frameworks/R.framework/Resources/include/.Rdata\"                                                                                                                                                                                                                                                                                                                                                                                                                                                                                                                                                                                                                                                                                        \n",
       "[27] \"/.Rdata\"                                                                                                                                                                                                                                                                                                                                                                                                                                                                                                                                                                                                                                                                                                                                         \n",
       "[28] \"~/Library/R/3.6/library/.Rdata\"                                                                                                                                                                                                                                                                                                                                                                                                                                                                                                                                                                                                                                                                                                                  \n",
       "[29] \"a4/.Rdata\"                                                                                                                                                                                                                                                                                                                                                                                                                                                                                                                                                                                                                                                                                                                                       \n",
       "[30] \"/usr/bin/open/.Rdata\"                                                                                                                                                                                                                                                                                                                                                                                                                                                                                                                                                                                                                                                                                                                            \n",
       "[31] \"x86_64-apple-darwin15.6.0/.Rdata\"                                                                                                                                                                                                                                                                                                                                                                                                                                                                                                                                                                                                                                                                                                                \n",
       "[32] \"lpr/.Rdata\"                                                                                                                                                                                                                                                                                                                                                                                                                                                                                                                                                                                                                                                                                                                                      \n",
       "[33] \"/Library/Frameworks/R.framework/Resources/bin/qpdf/.Rdata\"                                                                                                                                                                                                                                                                                                                                                                                                                                                                                                                                                                                                                                                                                       \n",
       "[34] \"times,inconsolata,hyper/.Rdata\"                                                                                                                                                                                                                                                                                                                                                                                                                                                                                                                                                                                                                                                                                                                  \n",
       "[35] \"/var/folders/x2/4xhlt3kn2g76y3802bnykrtc0000gn/T//RtmpSzn4yJ/.Rdata\"                                                                                                                                                                                                                                                                                                                                                                                                                                                                                                                                                                                                                                                                             \n",
       "[36] \"/Library/Frameworks/R.framework/Resources/share/.Rdata\"                                                                                                                                                                                                                                                                                                                                                                                                                                                                                                                                                                                                                                                                                          \n",
       "[37] \"strip -x/.Rdata\"                                                                                                                                                                                                                                                                                                                                                                                                                                                                                                                                                                                                                                                                                                                                 \n",
       "[38] \"strip -S/.Rdata\"                                                                                                                                                                                                                                                                                                                                                                                                                                                                                                                                                                                                                                                                                                                                 \n",
       "[39] \"osx,gcc,gxx,gfortran,gfortran/.Rdata\"                                                                                                                                                                                                                                                                                                                                                                                                                                                                                                                                                                                                                                                                                                            \n",
       "[40] \"/usr/local/bin/texi2dvi/.Rdata\"                                                                                                                                                                                                                                                                                                                                                                                                                                                                                                                                                                                                                                                                                                                  \n",
       "[41] \"/usr/bin/unzip/.Rdata\"                                                                                                                                                                                                                                                                                                                                                                                                                                                                                                                                                                                                                                                                                                                           \n",
       "[42] \"/usr/bin/zip/.Rdata\"                                                                                                                                                                                                                                                                                                                                                                                                                                                                                                                                                                                                                                                                                                                             \n",
       "[43] \"/usr/bin/sed/.Rdata\"                                                                                                                                                                                                                                                                                                                                                                                                                                                                                                                                                                                                                                                                                                                             \n",
       "[44] \"/bin/zsh/.Rdata\"                                                                                                                                                                                                                                                                                                                                                                                                                                                                                                                                                                                                                                                                                                                                 \n",
       "[45] \"0/.Rdata\"                                                                                                                                                                                                                                                                                                                                                                                                                                                                                                                                                                                                                                                                                                                                        \n",
       "[46] \"/private/tmp/com.apple.launchd.SXUYUgEV2J/Listeners/.Rdata\"                                                                                                                                                                                                                                                                                                                                                                                                                                                                                                                                                                                                                                                                                      \n",
       "[47] \"/usr/bin/tar/.Rdata\"                                                                                                                                                                                                                                                                                                                                                                                                                                                                                                                                                                                                                                                                                                                             \n",
       "[48] \"/var/folders/x2/4xhlt3kn2g76y3802bnykrtc0000gn/T//.Rdata\"                                                                                                                                                                                                                                                                                                                                                                                                                                                                                                                                                                                                                                                                                        \n",
       "[49] \"arsene5240/.Rdata\"                                                                                                                                                                                                                                                                                                                                                                                                                                                                                                                                                                                                                                                                                                                               \n",
       "[50] \"vs/workbench/services/extensions/node/extensionHostProcess/.Rdata\"                                                                                                                                                                                                                                                                                                                                                                                                                                                                                                                                                                                                                                                                               \n",
       "[51] \"/Users/arsene5240/Library/Application Support/Code/CachedData/7f6ab5485bbc008386c4386d08766667e155244e/.Rdata\"                                                                                                                                                                                                                                                                                                                                                                                                                                                                                                                                                                                                                                   \n",
       "[52] \"//.Rdata\"                                                                                                                                                                                                                                                                                                                                                                                                                                                                                                                                                                                                                                                                                                                                        \n",
       "[53] \"true/.Rdata\"                                                                                                                                                                                                                                                                                                                                                                                                                                                                                                                                                                                                                                                                                                                                     \n",
       "[54] \"/Users/arsene5240/Library/Application Support/Code/1.60.2-main.sock/.Rdata\"                                                                                                                                                                                                                                                                                                                                                                                                                                                                                                                                                                                                                                                                      \n",
       "[55] \"/var/folders/x2/4xhlt3kn2g76y3802bnykrtc0000gn/T/vscode-ipc-80ca9590-82d6-4b3e-957b-0637f34c7ee5.sock/.Rdata\"                                                                                                                                                                                                                                                                                                                                                                                                                                                                                                                                                                                                                                    \n",
       "[56] \"false/.Rdata\"                                                                                                                                                                                                                                                                                                                                                                                                                                                                                                                                                                                                                                                                                                                                    \n",
       "[57] \"false/.Rdata\"                                                                                                                                                                                                                                                                                                                                                                                                                                                                                                                                                                                                                                                                                                                                    \n",
       "[58] \"{\\\"locale\\\":\\\"zh-tw\\\",\\\"availableLanguages\\\":{\\\"*\\\":\\\"zh-tw\\\"},\\\"_languagePackId\\\":\\\"d2994f2533d3dfc36867db53dedfefe0.zh-tw\\\",\\\"_translationsConfigFile\\\":\\\"/Users/arsene5240/Library/Application Support/Code/clp/d2994f2533d3dfc36867db53dedfefe0.zh-tw/tcf.json\\\",\\\"_cacheRoot\\\":\\\"/Users/arsene5240/Library/Application Support/Code/clp/d2994f2533d3dfc36867db53dedfefe0.zh-tw\\\",\\\"_resolvedLanguagePackCoreLocation\\\":\\\"/Users/arsene5240/Library/Application Support/Code/clp/d2994f2533d3dfc36867db53dedfefe0.zh-tw/7f6ab5485bbc008386c4386d08766667e155244e\\\",\\\"_corruptedFile\\\":\\\"/Users/arsene5240/Library/Application Support/Code/clp/d2994f2533d3dfc36867db53dedfefe0.zh-tw/corrupted.info\\\",\\\"_languagePackSupport\\\":true}/.Rdata\"\n",
       "[59] \"13048/.Rdata\"                                                                                                                                                                                                                                                                                                                                                                                                                                                                                                                                                                                                                                                                                                                                    \n",
       "[60] \"true/.Rdata\"                                                                                                                                                                                                                                                                                                                                                                                                                                                                                                                                                                                                                                                                                                                                     \n",
       "[61] \"true/.Rdata\"                                                                                                                                                                                                                                                                                                                                                                                                                                                                                                                                                                                                                                                                                                                                     \n",
       "[62] \"0x0/.Rdata\"                                                                                                                                                                                                                                                                                                                                                                                                                                                                                                                                                                                                                                                                                                                                      \n",
       "[63] \"application.com.microsoft.VSCode.12897921287.12897921293/.Rdata\"                                                                                                                                                                                                                                                                                                                                                                                                                                                                                                                                                                                                                                                                                 \n",
       "[64] \"/Users/arsene5240/.oh-my-zsh/.Rdata\"                                                                                                                                                                                                                                                                                                                                                                                                                                                                                                                                                                                                                                                                                                             \n",
       "[65] \"com.microsoft.VSCode/.Rdata\"                                                                                                                                                                                                                                                                                                                                                                                                                                                                                                                                                                                                                                                                                                                     \n",
       "[66] \"0x1F5:0x2:0x35/.Rdata\"                                                                                                                                                                                                                                                                                                                                                                                                                                                                                                                                                                                                                                                                                                                           \n",
       "[67] \"0x102505c20-cafef2e5-libomp.dylib/.Rdata\"                                                                                                                                                                                                                                                                                                                                                                                                                                                                                                                                                                                                                                                                                                        "
      ]
     },
     "metadata": {}
    }
   ],
   "metadata": {}
  },
  {
   "cell_type": "markdown",
   "source": [
    "#### 保存工作目錄下所有的變量"
   ],
   "metadata": {}
  },
  {
   "cell_type": "code",
   "execution_count": null,
   "source": [
    "save.image(file = \".RData\")"
   ],
   "outputs": [],
   "metadata": {}
  },
  {
   "cell_type": "markdown",
   "source": [
    "#### 載入之前存取的變量 .RData"
   ],
   "metadata": {}
  },
  {
   "cell_type": "code",
   "execution_count": null,
   "source": [
    "load(file = \".RData\")"
   ],
   "outputs": [],
   "metadata": {}
  },
  {
   "cell_type": "markdown",
   "source": [
    "#### 過去 R 的執行紀錄"
   ],
   "metadata": {}
  },
  {
   "cell_type": "code",
   "execution_count": 14,
   "source": [
    "file.path(Sys.getenv(\"HOME\"), \".Rhistory\")"
   ],
   "outputs": [
    {
     "output_type": "display_data",
     "data": {
      "text/html": [
       "'/Users/arsene5240/.Rhistory'"
      ],
      "text/latex": [
       "'/Users/arsene5240/.Rhistory'"
      ],
      "text/markdown": [
       "'/Users/arsene5240/.Rhistory'"
      ],
      "text/plain": [
       "[1] \"/Users/arsene5240/.Rhistory\""
      ]
     },
     "metadata": {}
    }
   ],
   "metadata": {}
  }
 ],
 "metadata": {
  "orig_nbformat": 4,
  "language_info": {
   "name": "R",
   "codemirror_mode": "r",
   "pygments_lexer": "r",
   "mimetype": "text/x-r-source",
   "file_extension": ".r",
   "version": "3.6.3"
  },
  "kernelspec": {
   "name": "ir",
   "display_name": "R",
   "language": "R"
  },
  "interpreter": {
   "hash": "6179194fbff9f4402238d8e1d328e807089e57c7375c9c99b6907552ba10b7dc"
  }
 },
 "nbformat": 4,
 "nbformat_minor": 2
}